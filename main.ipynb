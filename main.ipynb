{
 "cells": [
  {
   "cell_type": "code",
   "execution_count": 1,
   "id": "1b8e0ddc",
   "metadata": {
    "execution": {
     "iopub.execute_input": "2024-09-28T13:36:25.453422Z",
     "iopub.status.busy": "2024-09-28T13:36:25.452556Z",
     "iopub.status.idle": "2024-09-28T13:36:39.472782Z",
     "shell.execute_reply": "2024-09-28T13:36:39.471642Z"
    },
    "papermill": {
     "duration": 14.028856,
     "end_time": "2024-09-28T13:36:39.475216",
     "exception": false,
     "start_time": "2024-09-28T13:36:25.446360",
     "status": "completed"
    },
    "tags": []
   },
   "outputs": [
    {
     "name": "stdout",
     "output_type": "stream",
     "text": [
      "Collecting rasterio\r\n",
      "  Downloading rasterio-1.4.0-cp310-cp310-manylinux_2_17_x86_64.manylinux2014_x86_64.whl.metadata (9.0 kB)\r\n",
      "Collecting affine (from rasterio)\r\n",
      "  Downloading affine-2.4.0-py3-none-any.whl.metadata (4.0 kB)\r\n",
      "Requirement already satisfied: attrs in /opt/conda/lib/python3.10/site-packages (from rasterio) (23.2.0)\r\n",
      "Requirement already satisfied: certifi in /opt/conda/lib/python3.10/site-packages (from rasterio) (2024.8.30)\r\n",
      "Requirement already satisfied: click>=4.0 in /opt/conda/lib/python3.10/site-packages (from rasterio) (8.1.7)\r\n",
      "Requirement already satisfied: cligj>=0.5 in /opt/conda/lib/python3.10/site-packages (from rasterio) (0.7.2)\r\n",
      "Requirement already satisfied: numpy>=1.24 in /opt/conda/lib/python3.10/site-packages (from rasterio) (1.26.4)\r\n",
      "Requirement already satisfied: click-plugins in /opt/conda/lib/python3.10/site-packages (from rasterio) (1.1.1)\r\n",
      "Requirement already satisfied: pyparsing in /opt/conda/lib/python3.10/site-packages (from rasterio) (3.1.2)\r\n",
      "Downloading rasterio-1.4.0-cp310-cp310-manylinux_2_17_x86_64.manylinux2014_x86_64.whl (22.2 MB)\r\n",
      "\u001b[2K   \u001b[90m━━━━━━━━━━━━━━━━━━━━━━━━━━━━━━━━━━━━━━━━\u001b[0m \u001b[32m22.2/22.2 MB\u001b[0m \u001b[31m68.5 MB/s\u001b[0m eta \u001b[36m0:00:00\u001b[0m\r\n",
      "\u001b[?25hDownloading affine-2.4.0-py3-none-any.whl (15 kB)\r\n",
      "Installing collected packages: affine, rasterio\r\n",
      "Successfully installed affine-2.4.0 rasterio-1.4.0\r\n"
     ]
    }
   ],
   "source": [
    "!pip install rasterio\n"
   ]
  },
  {
   "cell_type": "code",
   "execution_count": 2,
   "id": "714035d9",
   "metadata": {
    "execution": {
     "iopub.execute_input": "2024-09-28T13:36:39.486749Z",
     "iopub.status.busy": "2024-09-28T13:36:39.486383Z",
     "iopub.status.idle": "2024-09-28T13:36:40.820971Z",
     "shell.execute_reply": "2024-09-28T13:36:40.820106Z"
    },
    "papermill": {
     "duration": 1.342986,
     "end_time": "2024-09-28T13:36:40.823401",
     "exception": false,
     "start_time": "2024-09-28T13:36:39.480415",
     "status": "completed"
    },
    "tags": []
   },
   "outputs": [],
   "source": [
    "import numpy as np\n",
    "import rasterio\n",
    "from scipy import stats\n",
    "from skimage.feature import local_binary_pattern\n",
    "import pywt"
   ]
  },
  {
   "cell_type": "code",
   "execution_count": 3,
   "id": "b6952097",
   "metadata": {
    "execution": {
     "iopub.execute_input": "2024-09-28T13:36:40.835517Z",
     "iopub.status.busy": "2024-09-28T13:36:40.834684Z",
     "iopub.status.idle": "2024-09-28T13:36:40.864067Z",
     "shell.execute_reply": "2024-09-28T13:36:40.863331Z"
    },
    "papermill": {
     "duration": 0.03727,
     "end_time": "2024-09-28T13:36:40.865959",
     "exception": false,
     "start_time": "2024-09-28T13:36:40.828689",
     "status": "completed"
    },
    "tags": []
   },
   "outputs": [],
   "source": [
    "def extract_features(image_path):\n",
    "    with rasterio.open(image_path) as src:\n",
    "        image = src.read().astype(np.float32) / 10000 \n",
    "    \n",
    "    features = {}\n",
    "    def calculate_ratio(band1, band2):\n",
    "        return np.divide(band1, band2, where=band2!=0)\n",
    "\n",
    "    # Ratio and statistical features\n",
    "    features['ratio_band_1_8_mean_max_ratio'] = np.mean(calculate_ratio(image[0], image[7])) / np.max(calculate_ratio(image[0], image[7]))\n",
    "    features['min_max_ratio_3'] = np.min(image[2]) / np.max(image[2])\n",
    "    features['ratio_band_1_3_2_std'] = (np.std(calculate_ratio(image[0], image[2])) + np.std(calculate_ratio(image[0], image[1]))) / 2\n",
    "    features['ratio_band_3_5_1_3_diff'] = np.mean(calculate_ratio(image[2], image[4])) - np.std(calculate_ratio(image[0], image[2]))\n",
    "    features['ratio_band_2_4_1_2_diff'] = np.max(calculate_ratio(image[1], image[3])) - np.min(calculate_ratio(image[0], image[1]))\n",
    "    features['ratio_band_2_3_mean_std_ratio'] = np.mean(calculate_ratio(image[1], image[2])) / np.std(calculate_ratio(image[1], image[2]))\n",
    "    features['ratio_band_4_10_min_log'] = np.log1p(np.min(calculate_ratio(image[3], image[9])))\n",
    "    features['ratio_band_1_8_max_mean_diff'] = np.max(calculate_ratio(image[0], image[7])) - np.mean(calculate_ratio(image[0], image[7]))\n",
    "    features['ratio_band_3_5_1_3_std'] = np.std([calculate_ratio(image[2], image[4]), calculate_ratio(image[0], image[2])])\n",
    "    features['band_1_2_3_4_correlation'] = np.corrcoef([image[0].flatten(), image[1].flatten(), image[2].flatten(), image[3].flatten()])[0,1]\n",
    "    features['ratio_band_12_13_std'] = np.std(calculate_ratio(image[11], image[12]))\n",
    "    features['band_6_13_std_ratio'] = np.std(image[5]) / np.std(image[12])\n",
    "    features['ratio_band_1_7_13_max_std_ratio'] = np.max(calculate_ratio(image[0], image[6])) / np.std(calculate_ratio(image[0], image[12]))\n",
    "    features['band_3_10_min_mean_diff'] = np.mean(image[2]) - np.min(image[9])\n",
    "    features['ratio_band_1_9_std_min_diff'] = np.std(calculate_ratio(image[0], image[8])) - np.min(calculate_ratio(image[0], image[8]))\n",
    "    features['ratio_band_3_5_mean'] = np.mean(calculate_ratio(image[2], image[4]))\n",
    "    features['ratio_band_2_5_8_11_mean'] = np.mean([calculate_ratio(image[1], image[4]), calculate_ratio(image[1], image[7]), calculate_ratio(image[1], image[10])])\n",
    "\n",
    "    # Min and pool features\n",
    "    features['band_1_pool_1_min'] = np.min(image[0])\n",
    "    features['band_2_pool_1_min'] = np.min(image[1])\n",
    "    features['band_3_pool_1_min'] = np.min(image[2])\n",
    "    features['band_7_pool_1_min'] = np.min(image[6])\n",
    "\n",
    "    # LBP feature\n",
    "    lbp = local_binary_pattern(image [0], 8, 1, method='uniform')\n",
    "    features['band_1_window_3_lbp_entropy'] = stats.entropy(np.histogram(lbp, bins=256)[0])\n",
    "\n",
    "    # Wavelet features\n",
    "    coeffs = pywt.wavedec2(image[0], 'haar', level=3)\n",
    "    cA3, (cH3, cV3, cD3), (cH2, cV2, cD2), (cH1, cV1, cD1) = coeffs\n",
    "    features['band_1_wavelet_haar_cD3_min'] = np.min(cD3)\n",
    "\n",
    "    coeffs = pywt.wavedec2(image[1], 'haar', level=3)\n",
    "    cA3, (cH3, cV3, cD3), (cH2, cV2, cD2), (cH1, cV1, cD1) = coeffs\n",
    "    features['band_2_wavelet_haar_cH1_max'] = np.max(cH1)\n",
    "    features['band_2_wavelet_haar_cD2_max'] = np.max(cD2)\n",
    "    features['band_2_wavelet_haar_cD3_min'] = np.min(cD3)\n",
    "\n",
    "    coeffs = pywt.wavedec2(image[2], 'haar', level=3)\n",
    "    cA3, (cH3, cV3, cD3), (cH2, cV2, cD2), (cH1, cV1, cD1) = coeffs\n",
    "    features['band_3_wavelet_haar_cH1_max'] = np.max(cH1)\n",
    "\n",
    "    coeffs = pywt.wavedec2(image[3], 'haar', level=3)\n",
    "    cA3, (cH3, cV3, cD3), (cH2, cV2, cD2), (cH1, cV1, cD1) = coeffs\n",
    "    features['band_4_wavelet_haar_cD1_std'] = np.std(cD1)\n",
    "\n",
    "    coeffs = pywt.wavedec2(image[5], 'haar', level=3)\n",
    "    cA3, (cH3, cV3, cD3), (cH2, cV2, cD2), (cH1, cV1, cD1) = coeffs\n",
    "    features['band_6_wavelet_haar_cH2_max'] = np.max(cH2)\n",
    "\n",
    "    coeffs = pywt.wavedec2(image[6], 'haar', level=3)\n",
    "    cA3, (cH3, cV3, cD3), (cH2, cV2, cD2), (cH1, cV1, cD1) = coeffs\n",
    "    features['band_7_wavelet_haar_cV2_max'] = np.max(cV2)\n",
    "\n",
    "    coeffs = pywt.wavedec2(image[11], 'haar', level=3)\n",
    "    cA3, (cH3, cV3, cD3), (cH2, cV2, cD2), (cH1, cV1, cD1) = coeffs\n",
    "    features['band_12_wavelet_haar_cV1_std'] = np.std(cV1)\n",
    "\n",
    "    coeffs = pywt.wavedec2(image[12], 'haar', level=3)\n",
    "    cA3, (cH3, cV3, cD3), (cH2, cV2, cD2), (cH1, cV1, cD1) = coeffs\n",
    "    features['band_13_wavelet_haar_cV1_min'] = np.min(cV1)\n",
    "    features['band_13_wavelet_haar_cD1_std'] = np.std(cD1)\n",
    "    features['band_13_wavelet_haar_cV2_std'] = np.std(cV2)\n",
    "    features['band_13_wavelet_haar_cD2_std'] = np.std(cD2)\n",
    "    features['band_13_wavelet_haar_cD3_std'] = np.std(cD3)\n",
    "\n",
    "    feature_values = np.array(list(features.values()))\n",
    "    feature_values = np.nan_to_num(feature_values, nan=0.0, posinf=0.0, neginf=0.0)\n",
    "    \n",
    "    feature_names = list(features.keys())\n",
    "    return feature_values,feature_names"
   ]
  },
  {
   "cell_type": "code",
   "execution_count": 4,
   "id": "3dd70cb4",
   "metadata": {
    "execution": {
     "iopub.execute_input": "2024-09-28T13:36:40.877152Z",
     "iopub.status.busy": "2024-09-28T13:36:40.876880Z",
     "iopub.status.idle": "2024-09-28T13:40:04.111240Z",
     "shell.execute_reply": "2024-09-28T13:40:04.110284Z"
    },
    "papermill": {
     "duration": 203.246959,
     "end_time": "2024-09-28T13:40:04.117988",
     "exception": false,
     "start_time": "2024-09-28T13:36:40.871029",
     "status": "completed"
    },
    "tags": []
   },
   "outputs": [
    {
     "name": "stderr",
     "output_type": "stream",
     "text": [
      "/opt/conda/lib/python3.10/site-packages/skimage/feature/texture.py:360: UserWarning: Applying `local_binary_pattern` to floating-point images may give unexpected results when small numerical differences between adjacent pixels are present. It is recommended to use this function with images of integer dtype.\n",
      "  warnings.warn(\n",
      "/tmp/ipykernel_22/1590598485.py:16: RuntimeWarning: invalid value encountered in log1p\n",
      "  features['ratio_band_4_10_min_log'] = np.log1p(np.min(calculate_ratio(image[3], image[9])))\n"
     ]
    },
    {
     "name": "stdout",
     "output_type": "stream",
     "text": [
      "Features and labels saved to extracted_features_with_labels.npz\n"
     ]
    }
   ],
   "source": [
    "import os\n",
    "import csv\n",
    "import numpy as np\n",
    "import rasterio\n",
    "\n",
    "\n",
    "def process_csv(csv_file, base_path, save_path):\n",
    "    all_features = []\n",
    "    all_feature_names = []\n",
    "    all_labels = []\n",
    "\n",
    "    with open(csv_file, mode='r') as file:\n",
    "        reader = csv.reader(file)\n",
    "        for row in reader:\n",
    "            file_name, _, label = row\n",
    "            image_path = os.path.join(base_path, file_name)\n",
    "\n",
    "            feature_values, feature_names = extract_features(image_path)\n",
    "\n",
    "            all_features.append(feature_values)\n",
    "            all_feature_names = feature_names  \n",
    "            all_labels.append(float(label))  \n",
    "\n",
    "    features_array = np.array(all_features)\n",
    "    labels_array = np.array(all_labels)\n",
    "\n",
    "    np.savez(save_path, features=features_array, feature_names=feature_names, labels=labels_array)\n",
    "    print(f\"Features and labels saved to {save_path}\")\n",
    "\n",
    "\n",
    "csv_file = \"/kaggle/input/aerosol-optical-depth/train_answer.csv\" \n",
    "base_path = \"/kaggle/input/aerosol-optical-depth/train_images/train_images\"  \n",
    "save_path = \"extracted_features_with_labels.npz\" \n",
    "\n",
    "process_csv(csv_file, base_path, save_path)\n"
   ]
  },
  {
   "cell_type": "code",
   "execution_count": 5,
   "id": "56769cf6",
   "metadata": {
    "execution": {
     "iopub.execute_input": "2024-09-28T13:40:04.129506Z",
     "iopub.status.busy": "2024-09-28T13:40:04.129176Z",
     "iopub.status.idle": "2024-09-28T13:41:11.002898Z",
     "shell.execute_reply": "2024-09-28T13:41:11.001957Z"
    },
    "papermill": {
     "duration": 66.886974,
     "end_time": "2024-09-28T13:41:11.010068",
     "exception": false,
     "start_time": "2024-09-28T13:40:04.123094",
     "status": "completed"
    },
    "tags": []
   },
   "outputs": [
    {
     "name": "stderr",
     "output_type": "stream",
     "text": [
      "/tmp/ipykernel_22/1590598485.py:16: RuntimeWarning: invalid value encountered in log1p\n",
      "  features['ratio_band_4_10_min_log'] = np.log1p(np.min(calculate_ratio(image[3], image[9])))\n"
     ]
    },
    {
     "name": "stdout",
     "output_type": "stream",
     "text": [
      "Features saved to extracted_test_features.npz\n",
      "Number of images processed: 1489\n",
      "Number of features per image: 36\n"
     ]
    }
   ],
   "source": [
    "import os\n",
    "import numpy as np\n",
    "import rasterio\n",
    "import scipy\n",
    "\n",
    "def process_folder(base_path, save_path):\n",
    "    all_features = []\n",
    "    all_feature_names = []\n",
    "    file_names = []\n",
    "\n",
    "    for file_name in os.listdir(base_path):\n",
    "        if file_name.lower().endswith(('.tif', '.tiff')):\n",
    "            image_path = os.path.join(base_path, file_name)\n",
    "            feature_values, feature_names = extract_features(image_path)\n",
    "            all_features.append(feature_values)\n",
    "            all_feature_names = feature_names  \n",
    "            file_names.append(file_name)\n",
    "\n",
    "    features_array = np.array(all_features)\n",
    "\n",
    "    np.savez(save_path, \n",
    "             features=features_array, \n",
    "             feature_names=all_feature_names, \n",
    "             file_names=file_names)\n",
    "    \n",
    "    print(f\"Features saved to {save_path}\")\n",
    "    print(f\"Number of images processed: {len(file_names)}\")\n",
    "    print(f\"Number of features per image: {len(all_feature_names)}\")\n",
    "\n",
    "def load_features(save_path):\n",
    "    loaded_data = np.load(save_path, allow_pickle=True)\n",
    "    features = loaded_data['features']\n",
    "    feature_names = loaded_data['feature_names']\n",
    "    file_names = loaded_data['file_names']\n",
    "    return features, feature_names, file_names\n",
    "\n",
    "base_path = \"/kaggle/input/aerosol-optical-depth/test_images/test_images\" \n",
    "save_path = \"extracted_test_features.npz\" \n",
    "\n",
    "process_folder(base_path, save_path)\n"
   ]
  },
  {
   "cell_type": "code",
   "execution_count": 6,
   "id": "6f16f737",
   "metadata": {
    "execution": {
     "iopub.execute_input": "2024-09-28T13:41:11.023647Z",
     "iopub.status.busy": "2024-09-28T13:41:11.023306Z",
     "iopub.status.idle": "2024-09-28T13:41:11.033320Z",
     "shell.execute_reply": "2024-09-28T13:41:11.032360Z"
    },
    "papermill": {
     "duration": 0.018226,
     "end_time": "2024-09-28T13:41:11.035225",
     "exception": false,
     "start_time": "2024-09-28T13:41:11.016999",
     "status": "completed"
    },
    "tags": []
   },
   "outputs": [
    {
     "name": "stdout",
     "output_type": "stream",
     "text": [
      "Feature Names: ['ratio_band_1_8_mean_max_ratio' 'min_max_ratio_3' 'ratio_band_1_3_2_std'\n",
      " 'ratio_band_3_5_1_3_diff' 'ratio_band_2_4_1_2_diff'\n",
      " 'ratio_band_2_3_mean_std_ratio' 'ratio_band_4_10_min_log'\n",
      " 'ratio_band_1_8_max_mean_diff' 'ratio_band_3_5_1_3_std'\n",
      " 'band_1_2_3_4_correlation' 'ratio_band_12_13_std' 'band_6_13_std_ratio'\n",
      " 'ratio_band_1_7_13_max_std_ratio' 'band_3_10_min_mean_diff'\n",
      " 'ratio_band_1_9_std_min_diff' 'ratio_band_3_5_mean'\n",
      " 'ratio_band_2_5_8_11_mean' 'band_1_pool_1_min' 'band_2_pool_1_min'\n",
      " 'band_3_pool_1_min' 'band_7_pool_1_min' 'band_1_window_3_lbp_entropy'\n",
      " 'band_1_wavelet_haar_cD3_min' 'band_2_wavelet_haar_cH1_max'\n",
      " 'band_2_wavelet_haar_cD2_max' 'band_2_wavelet_haar_cD3_min'\n",
      " 'band_3_wavelet_haar_cH1_max' 'band_4_wavelet_haar_cD1_std'\n",
      " 'band_6_wavelet_haar_cH2_max' 'band_7_wavelet_haar_cV2_max'\n",
      " 'band_12_wavelet_haar_cV1_std' 'band_13_wavelet_haar_cV1_min'\n",
      " 'band_13_wavelet_haar_cD1_std' 'band_13_wavelet_haar_cV2_std'\n",
      " 'band_13_wavelet_haar_cD2_std' 'band_13_wavelet_haar_cD3_std']\n",
      "Shape of Features: (1489, 36)\n",
      "File Names: ['test_677.tif' 'test_100.tif' 'test_57.tif' 'test_264.tif'\n",
      " 'test_1243.tif']\n"
     ]
    }
   ],
   "source": [
    "def load_features(save_path):\n",
    "    loaded_data = np.load(save_path, allow_pickle=True)\n",
    "    features = loaded_data['features']\n",
    "    feature_names = loaded_data['feature_names']\n",
    "    file_names = loaded_data['file_names']\n",
    "    return features, feature_names, file_names\n",
    "\n",
    "# Example usage to load the saved test features\n",
    "features, feature_names, file_names = load_features('extracted_test_features.npz')\n",
    "\n",
    "print(\"Feature Names:\", feature_names)\n",
    "print(\"Shape of Features:\", features.shape)\n",
    "print(\"File Names:\", file_names[:5])  # Display the first 5 file names"
   ]
  },
  {
   "cell_type": "markdown",
   "id": "1bad6304",
   "metadata": {
    "papermill": {
     "duration": 0.00521,
     "end_time": "2024-09-28T13:41:11.046009",
     "exception": false,
     "start_time": "2024-09-28T13:41:11.040799",
     "status": "completed"
    },
    "tags": []
   },
   "source": [
    "# Catboost Regresssion Head"
   ]
  },
  {
   "cell_type": "code",
   "execution_count": 7,
   "id": "e6fead30",
   "metadata": {
    "execution": {
     "iopub.execute_input": "2024-09-28T13:41:11.058100Z",
     "iopub.status.busy": "2024-09-28T13:41:11.057816Z",
     "iopub.status.idle": "2024-09-28T13:41:12.433837Z",
     "shell.execute_reply": "2024-09-28T13:41:12.432845Z"
    },
    "papermill": {
     "duration": 1.384804,
     "end_time": "2024-09-28T13:41:12.436225",
     "exception": false,
     "start_time": "2024-09-28T13:41:11.051421",
     "status": "completed"
    },
    "tags": []
   },
   "outputs": [],
   "source": [
    "import numpy as np\n",
    "import pandas as pd\n",
    "from catboost import CatBoostRegressor\n",
    "from sklearn.model_selection import KFold\n",
    "from scipy.stats import pearsonr\n",
    "from sklearn.preprocessing import StandardScaler"
   ]
  },
  {
   "cell_type": "code",
   "execution_count": 8,
   "id": "2f6d1b40",
   "metadata": {
    "execution": {
     "iopub.execute_input": "2024-09-28T13:41:12.449947Z",
     "iopub.status.busy": "2024-09-28T13:41:12.449069Z",
     "iopub.status.idle": "2024-09-28T13:41:12.461389Z",
     "shell.execute_reply": "2024-09-28T13:41:12.460426Z"
    },
    "papermill": {
     "duration": 0.021213,
     "end_time": "2024-09-28T13:41:12.463333",
     "exception": false,
     "start_time": "2024-09-28T13:41:12.442120",
     "status": "completed"
    },
    "tags": []
   },
   "outputs": [],
   "source": [
    "# Function to load training data\n",
    "def load_features(save_path):\n",
    "    loaded_data = np.load(save_path, allow_pickle=True)\n",
    "    return loaded_data['features'], loaded_data['labels'], loaded_data['feature_names']\n",
    "\n",
    "# Function to load test data\n",
    "def load_test_data(test_path):\n",
    "    loaded_data = np.load(test_path, allow_pickle=True)\n",
    "    return loaded_data['features'], loaded_data['file_names']\n",
    "\n",
    "\n",
    "def pearson_corr(y_true, y_pred):\n",
    "    return pearsonr(y_true, y_pred)[0]\n",
    "def perform_cross_validation_and_predict(features, labels, test_features, params, n_folds=17):\n",
    "    kf = KFold(n_splits=n_folds, shuffle=True, random_state=979)\n",
    "    val_correlations = []\n",
    "    test_predictions = np.zeros(len(test_features))\n",
    "    \n",
    "    scaler = StandardScaler()\n",
    "    features_scaled = scaler.fit_transform(features)\n",
    "    test_features_scaled = scaler.transform(test_features)\n",
    "    \n",
    "    for fold, (train_index, val_index) in enumerate(kf.split(features_scaled), 1):\n",
    "        X_train, X_val = features_scaled[train_index], features_scaled[val_index]\n",
    "        y_train, y_val = labels[train_index], labels[val_index]\n",
    "        \n",
    "        model = CatBoostRegressor(**params)\n",
    "        model.fit(X_train, y_train, eval_set=(X_val, y_val), use_best_model=True, early_stopping_rounds=50, verbose=0)\n",
    "        \n",
    "        y_val_pred = model.predict(X_val)\n",
    "        val_corr = pearson_corr(y_val, y_val_pred)\n",
    "        val_correlations.append(val_corr)\n",
    "        \n",
    "        print(f\"Fold {fold} validation correlation: {val_corr:.4f}\")\n",
    "        \n",
    "        # Make predictions on the test set\n",
    "        test_predictions += model.predict(test_features_scaled) / n_folds\n",
    "    \n",
    "    mean_correlation = np.mean(val_correlations)\n",
    "    std_correlation = np.std(val_correlations)\n",
    "    print(f\"\\nMean validation correlation: {mean_correlation:.4f} (±{std_correlation:.4f})\")\n",
    "    \n",
    "    return mean_correlation, std_correlation, test_predictions"
   ]
  },
  {
   "cell_type": "code",
   "execution_count": 9,
   "id": "af5545b9",
   "metadata": {
    "execution": {
     "iopub.execute_input": "2024-09-28T13:41:12.476359Z",
     "iopub.status.busy": "2024-09-28T13:41:12.476034Z",
     "iopub.status.idle": "2024-09-28T13:41:12.485947Z",
     "shell.execute_reply": "2024-09-28T13:41:12.485034Z"
    },
    "papermill": {
     "duration": 0.01846,
     "end_time": "2024-09-28T13:41:12.487790",
     "exception": false,
     "start_time": "2024-09-28T13:41:12.469330",
     "status": "completed"
    },
    "tags": []
   },
   "outputs": [
    {
     "name": "stdout",
     "output_type": "stream",
     "text": [
      "Training Features Shape: (4465, 36)\n",
      "Test Features Shape: (1489, 36)\n",
      "First 5 Test File Names: ['test_677.tif' 'test_100.tif' 'test_57.tif' 'test_264.tif'\n",
      " 'test_1243.tif']\n"
     ]
    }
   ],
   "source": [
    "# Load training features\n",
    "save_path = \"/kaggle/working/extracted_features_with_labels.npz\"\n",
    "features, labels, feature_names = load_features(save_path)\n",
    "\n",
    "# Load test features\n",
    "test_path = \"/kaggle/working/extracted_test_features.npz\"\n",
    "test_features, file_names = load_test_data(test_path)\n",
    "\n",
    "# Check the loaded data\n",
    "print(\"Training Features Shape:\", features.shape)\n",
    "print(\"Test Features Shape:\", test_features.shape)\n",
    "print(\"First 5 Test File Names:\", file_names[:5])"
   ]
  },
  {
   "cell_type": "code",
   "execution_count": 10,
   "id": "6beedcf9",
   "metadata": {
    "execution": {
     "iopub.execute_input": "2024-09-28T13:41:12.500423Z",
     "iopub.status.busy": "2024-09-28T13:41:12.500114Z",
     "iopub.status.idle": "2024-09-28T13:41:12.505404Z",
     "shell.execute_reply": "2024-09-28T13:41:12.504518Z"
    },
    "papermill": {
     "duration": 0.013689,
     "end_time": "2024-09-28T13:41:12.507292",
     "exception": false,
     "start_time": "2024-09-28T13:41:12.493603",
     "status": "completed"
    },
    "tags": []
   },
   "outputs": [],
   "source": [
    "# Parameters\n",
    "params = {\n",
    "    'learning_rate': 0.0095416806602574589,\n",
    "    'l2_leaf_reg': 0.04628983043127334, \n",
    "    'border_count': 139,\n",
    "    'bagging_temperature': 3.980762682227694,\n",
    "    'random_strength': 1.9451355776681154e-08, \n",
    "    'min_data_in_leaf': 1,\n",
    "    'max_leaves': 178,\n",
    "    'depth': 14,\n",
    "    'iterations': 4343,\n",
    "    'task_type': 'GPU',\n",
    "    'devices': '0',\n",
    "    'eval_metric': 'RMSE',\n",
    "    'grow_policy': 'Lossguide',\n",
    "    'verbose': 0\n",
    "}"
   ]
  },
  {
   "cell_type": "code",
   "execution_count": 11,
   "id": "20622b19",
   "metadata": {
    "execution": {
     "iopub.execute_input": "2024-09-28T13:41:12.519883Z",
     "iopub.status.busy": "2024-09-28T13:41:12.519595Z",
     "iopub.status.idle": "2024-09-28T13:56:23.201325Z",
     "shell.execute_reply": "2024-09-28T13:56:23.200226Z"
    },
    "papermill": {
     "duration": 910.697771,
     "end_time": "2024-09-28T13:56:23.210876",
     "exception": false,
     "start_time": "2024-09-28T13:41:12.513105",
     "status": "completed"
    },
    "tags": []
   },
   "outputs": [
    {
     "name": "stdout",
     "output_type": "stream",
     "text": [
      "Performing cross-validation and making predictions...\n",
      "Fold 1 validation correlation: 0.9477\n",
      "Fold 2 validation correlation: 0.9001\n",
      "Fold 3 validation correlation: 0.9613\n",
      "Fold 4 validation correlation: 0.8859\n",
      "Fold 5 validation correlation: 0.9896\n",
      "Fold 6 validation correlation: 0.9572\n",
      "Fold 7 validation correlation: 0.9313\n",
      "Fold 8 validation correlation: 0.9799\n",
      "Fold 9 validation correlation: 0.9787\n",
      "Fold 10 validation correlation: 0.9567\n",
      "Fold 11 validation correlation: 0.9744\n",
      "Fold 12 validation correlation: 0.9508\n",
      "Fold 13 validation correlation: 0.9683\n",
      "Fold 14 validation correlation: 0.9778\n",
      "Fold 15 validation correlation: 0.9618\n",
      "Fold 16 validation correlation: 0.9500\n",
      "Fold 17 validation correlation: 0.9809\n",
      "\n",
      "Mean validation correlation: 0.9560 (±0.0273)\n",
      "Cross-validation and prediction completed.\n"
     ]
    }
   ],
   "source": [
    "# Perform cross-validation and make predictions\n",
    "print(\"Performing cross-validation and making predictions...\")\n",
    "\n",
    "mean_corr, std_corr, test_predictions = perform_cross_validation_and_predict(features, labels, test_features, params)\n",
    "\n",
    "\n",
    "print(\"Cross-validation and prediction completed.\")"
   ]
  },
  {
   "cell_type": "code",
   "execution_count": 12,
   "id": "09efb89c",
   "metadata": {
    "execution": {
     "iopub.execute_input": "2024-09-28T13:56:23.226658Z",
     "iopub.status.busy": "2024-09-28T13:56:23.226310Z",
     "iopub.status.idle": "2024-09-28T13:56:23.244837Z",
     "shell.execute_reply": "2024-09-28T13:56:23.243710Z"
    },
    "papermill": {
     "duration": 0.028889,
     "end_time": "2024-09-28T13:56:23.247058",
     "exception": false,
     "start_time": "2024-09-28T13:56:23.218169",
     "status": "completed"
    },
    "tags": []
   },
   "outputs": [
    {
     "name": "stdout",
     "output_type": "stream",
     "text": [
      "Predictions saved to 'C_PD_9F.csv'\n"
     ]
    }
   ],
   "source": [
    "# Save predictions to CSV\n",
    "output_df = pd.DataFrame({'file_name': file_names, 'prediction': test_predictions})\n",
    "output_df.to_csv('C_PD_9F.csv', index=False, header=False)\n",
    "print(\"Predictions saved to 'C_PD_9F.csv'\")"
   ]
  },
  {
   "cell_type": "code",
   "execution_count": 13,
   "id": "663ca658",
   "metadata": {
    "execution": {
     "iopub.execute_input": "2024-09-28T13:56:23.268101Z",
     "iopub.status.busy": "2024-09-28T13:56:23.267784Z",
     "iopub.status.idle": "2024-09-28T13:56:23.286603Z",
     "shell.execute_reply": "2024-09-28T13:56:23.285589Z"
    },
    "papermill": {
     "duration": 0.031887,
     "end_time": "2024-09-28T13:56:23.288947",
     "exception": false,
     "start_time": "2024-09-28T13:56:23.257060",
     "status": "completed"
    },
    "tags": []
   },
   "outputs": [
    {
     "data": {
      "text/html": [
       "<div>\n",
       "<style scoped>\n",
       "    .dataframe tbody tr th:only-of-type {\n",
       "        vertical-align: middle;\n",
       "    }\n",
       "\n",
       "    .dataframe tbody tr th {\n",
       "        vertical-align: top;\n",
       "    }\n",
       "\n",
       "    .dataframe thead th {\n",
       "        text-align: right;\n",
       "    }\n",
       "</style>\n",
       "<table border=\"1\" class=\"dataframe\">\n",
       "  <thead>\n",
       "    <tr style=\"text-align: right;\">\n",
       "      <th></th>\n",
       "      <th>file_name</th>\n",
       "      <th>prediction</th>\n",
       "    </tr>\n",
       "  </thead>\n",
       "  <tbody>\n",
       "    <tr>\n",
       "      <th>0</th>\n",
       "      <td>test_677.tif</td>\n",
       "      <td>0.053104</td>\n",
       "    </tr>\n",
       "    <tr>\n",
       "      <th>1</th>\n",
       "      <td>test_100.tif</td>\n",
       "      <td>0.128500</td>\n",
       "    </tr>\n",
       "    <tr>\n",
       "      <th>2</th>\n",
       "      <td>test_57.tif</td>\n",
       "      <td>0.097586</td>\n",
       "    </tr>\n",
       "    <tr>\n",
       "      <th>3</th>\n",
       "      <td>test_264.tif</td>\n",
       "      <td>0.051345</td>\n",
       "    </tr>\n",
       "    <tr>\n",
       "      <th>4</th>\n",
       "      <td>test_1243.tif</td>\n",
       "      <td>0.040634</td>\n",
       "    </tr>\n",
       "    <tr>\n",
       "      <th>5</th>\n",
       "      <td>test_306.tif</td>\n",
       "      <td>0.120217</td>\n",
       "    </tr>\n",
       "    <tr>\n",
       "      <th>6</th>\n",
       "      <td>test_1360.tif</td>\n",
       "      <td>1.095037</td>\n",
       "    </tr>\n",
       "    <tr>\n",
       "      <th>7</th>\n",
       "      <td>test_1476.tif</td>\n",
       "      <td>0.256265</td>\n",
       "    </tr>\n",
       "    <tr>\n",
       "      <th>8</th>\n",
       "      <td>test_336.tif</td>\n",
       "      <td>0.131005</td>\n",
       "    </tr>\n",
       "    <tr>\n",
       "      <th>9</th>\n",
       "      <td>test_711.tif</td>\n",
       "      <td>0.340944</td>\n",
       "    </tr>\n",
       "  </tbody>\n",
       "</table>\n",
       "</div>"
      ],
      "text/plain": [
       "       file_name  prediction\n",
       "0   test_677.tif    0.053104\n",
       "1   test_100.tif    0.128500\n",
       "2    test_57.tif    0.097586\n",
       "3   test_264.tif    0.051345\n",
       "4  test_1243.tif    0.040634\n",
       "5   test_306.tif    0.120217\n",
       "6  test_1360.tif    1.095037\n",
       "7  test_1476.tif    0.256265\n",
       "8   test_336.tif    0.131005\n",
       "9   test_711.tif    0.340944"
      ]
     },
     "execution_count": 13,
     "metadata": {},
     "output_type": "execute_result"
    }
   ],
   "source": [
    "output_df.head(10)"
   ]
  }
 ],
 "metadata": {
  "kaggle": {
   "accelerator": "gpu",
   "dataSources": [
    {
     "datasetId": 5612695,
     "sourceId": 9292118,
     "sourceType": "datasetVersion"
    }
   ],
   "dockerImageVersionId": 30775,
   "isGpuEnabled": true,
   "isInternetEnabled": true,
   "language": "python",
   "sourceType": "notebook"
  },
  "kernelspec": {
   "display_name": "Python 3",
   "language": "python",
   "name": "python3"
  },
  "language_info": {
   "codemirror_mode": {
    "name": "ipython",
    "version": 3
   },
   "file_extension": ".py",
   "mimetype": "text/x-python",
   "name": "python",
   "nbconvert_exporter": "python",
   "pygments_lexer": "ipython3",
   "version": "3.10.14"
  },
  "papermill": {
   "default_parameters": {},
   "duration": 1201.069339,
   "end_time": "2024-09-28T13:56:23.817425",
   "environment_variables": {},
   "exception": null,
   "input_path": "__notebook__.ipynb",
   "output_path": "__notebook__.ipynb",
   "parameters": {},
   "start_time": "2024-09-28T13:36:22.748086",
   "version": "2.6.0"
  }
 },
 "nbformat": 4,
 "nbformat_minor": 5
}
